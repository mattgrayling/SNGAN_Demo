{
 "cells": [
  {
   "cell_type": "markdown",
   "id": "0a1c1182-c3c0-4c2a-8087-216a777861e6",
   "metadata": {},
   "source": [
    "This is a quick demo notebook to demonstrate the training the GAN architecture I discussed in my talk at the Machine Learning in Transients workshop in Warwick on 11th/12th December 2023. I have included a small sample of 50 SN light curves on which you can test; I haven't been able to test how well the model will perform on this training set, though I'd expect you to get something reasonable given enough epochs of training (you may need to run for a few thousand and will likely generate nonsense at first.\n",
    "\n",
    "To see the model archicture itself, look in the file wgan.py"
   ]
  },
  {
   "cell_type": "code",
   "execution_count": null,
   "id": "aedcd1bd-6768-4804-a274-621a2a5df014",
   "metadata": {},
   "outputs": [],
   "source": [
    "from wgan import WGAN"
   ]
  },
  {
   "cell_type": "code",
   "execution_count": null,
   "id": "0b972650-5578-43d1-a055-9f2cccd3d623",
   "metadata": {},
   "outputs": [],
   "source": [
    "gan = WGAN(latent_dims=10, z_lim=0.25, gen_units=100, crit_units=100, sn_type='Ic', c_dropout=0.25, g_dropout=0.25, \n",
    "           clr=0.00002, glr=0.00002, n_critic=3, gp_weight=10, redshift=True, dataset_path='SNe_Ic_50.csv')"
   ]
  },
  {
   "cell_type": "markdown",
   "id": "4f9c35c7-fc7c-4bbf-b994-e0fec7a1961d",
   "metadata": {},
   "source": [
    "This next cell starts the actual training process. The argument `plot_interval` determines how many epochs pass between example plots. Note that these may look like nonsense for a while but should eventually start increasingly resembling SN light curves. Also, these plots are prior to post-processing so will be scaled between -1 and 1. Each training epoch consists of 50 steps; this will take a little while to get going but then should speed up.\n",
    "\n",
    "Model weights will be saved as you go in a folder with a very long file name to keep track of the hyperparameters of the trained model."
   ]
  },
  {
   "cell_type": "code",
   "execution_count": null,
   "id": "29110332-e15e-4e1c-aff7-62ee0754d20b",
   "metadata": {},
   "outputs": [],
   "source": [
    "gan.train(epochs=2000, plot_interval=100)"
   ]
  },
  {
   "cell_type": "markdown",
   "id": "791e35f8-1c2d-4681-8cdf-1320c0dd4e7c",
   "metadata": {},
   "source": [
    "After you have trained a model, you can use this function to plot a set of example light curves."
   ]
  },
  {
   "cell_type": "code",
   "execution_count": null,
   "id": "568a30a3-1bba-4390-b545-ff0d244f0e26",
   "metadata": {},
   "outputs": [],
   "source": [
    "gan.lc_plot(3, 4, epoch=500, timesteps=12, file_format='pdf')"
   ]
  }
 ],
 "metadata": {
  "kernelspec": {
   "display_name": "Python 3 (ipykernel)",
   "language": "python",
   "name": "python3"
  },
  "language_info": {
   "codemirror_mode": {
    "name": "ipython",
    "version": 3
   },
   "file_extension": ".py",
   "mimetype": "text/x-python",
   "name": "python",
   "nbconvert_exporter": "python",
   "pygments_lexer": "ipython3",
   "version": "3.11.6"
  }
 },
 "nbformat": 4,
 "nbformat_minor": 5
}
